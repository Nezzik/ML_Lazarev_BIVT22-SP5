{
 "cells": [
  {
   "cell_type": "markdown",
   "metadata": {},
   "source": [
    "# Работа с целевой переменной"
   ]
  },
  {
   "cell_type": "markdown",
   "metadata": {},
   "source": [
    "# Содержание работы"
   ]
  },
  {
   "cell_type": "code",
   "execution_count": 4,
   "metadata": {},
   "outputs": [],
   "source": [
    "import numpy as np\n",
    "import pandas as pd\n",
    "import matplotlib.pyplot as plt\n",
    "import seaborn as sns"
   ]
  },
  {
   "cell_type": "markdown",
   "metadata": {},
   "source": [
    "### 1. Загрузите первый датасет для регрессии и познакомьтесь с его структурой."
   ]
  },
  {
   "cell_type": "code",
   "execution_count": 5,
   "metadata": {},
   "outputs": [],
   "source": [
    "from sklearn.datasets import fetch_openml"
   ]
  },
  {
   "cell_type": "code",
   "execution_count": 6,
   "metadata": {},
   "outputs": [
    {
     "data": {
      "text/html": [
       "<div>\n",
       "<style scoped>\n",
       "    .dataframe tbody tr th:only-of-type {\n",
       "        vertical-align: middle;\n",
       "    }\n",
       "\n",
       "    .dataframe tbody tr th {\n",
       "        vertical-align: top;\n",
       "    }\n",
       "\n",
       "    .dataframe thead th {\n",
       "        text-align: right;\n",
       "    }\n",
       "</style>\n",
       "<table border=\"1\" class=\"dataframe\">\n",
       "  <thead>\n",
       "    <tr style=\"text-align: right;\">\n",
       "      <th></th>\n",
       "      <th>oz1</th>\n",
       "      <th>oz2</th>\n",
       "      <th>oz3</th>\n",
       "      <th>oz4</th>\n",
       "      <th>oz5</th>\n",
       "      <th>oz6</th>\n",
       "      <th>oz7</th>\n",
       "      <th>oz8</th>\n",
       "      <th>oz9</th>\n",
       "      <th>oz10</th>\n",
       "      <th>...</th>\n",
       "      <th>oz193</th>\n",
       "      <th>oz194</th>\n",
       "      <th>oz195</th>\n",
       "      <th>oz196</th>\n",
       "      <th>oz197</th>\n",
       "      <th>oz198</th>\n",
       "      <th>oz199</th>\n",
       "      <th>oz200</th>\n",
       "      <th>oz201</th>\n",
       "      <th>oz202</th>\n",
       "    </tr>\n",
       "  </thead>\n",
       "  <tbody>\n",
       "    <tr>\n",
       "      <th>0</th>\n",
       "      <td>0.076923</td>\n",
       "      <td>0.325000</td>\n",
       "      <td>0.035088</td>\n",
       "      <td>0.200000</td>\n",
       "      <td>0.162112</td>\n",
       "      <td>0.194562</td>\n",
       "      <td>0.003900</td>\n",
       "      <td>0.060606</td>\n",
       "      <td>0.166667</td>\n",
       "      <td>0.045872</td>\n",
       "      <td>...</td>\n",
       "      <td>0.013874</td>\n",
       "      <td>0.071602</td>\n",
       "      <td>0.056880</td>\n",
       "      <td>0.179132</td>\n",
       "      <td>0.505899</td>\n",
       "      <td>0.039213</td>\n",
       "      <td>0.091327</td>\n",
       "      <td>0.321109</td>\n",
       "      <td>0.127564</td>\n",
       "      <td>0.188387</td>\n",
       "    </tr>\n",
       "    <tr>\n",
       "      <th>1</th>\n",
       "      <td>0.230769</td>\n",
       "      <td>0.375000</td>\n",
       "      <td>0.042105</td>\n",
       "      <td>0.333333</td>\n",
       "      <td>0.464191</td>\n",
       "      <td>0.622795</td>\n",
       "      <td>0.077623</td>\n",
       "      <td>0.373737</td>\n",
       "      <td>0.305556</td>\n",
       "      <td>0.192661</td>\n",
       "      <td>...</td>\n",
       "      <td>0.006342</td>\n",
       "      <td>0.186056</td>\n",
       "      <td>0.287438</td>\n",
       "      <td>0.384236</td>\n",
       "      <td>0.683820</td>\n",
       "      <td>0.326584</td>\n",
       "      <td>0.117990</td>\n",
       "      <td>0.456665</td>\n",
       "      <td>0.475618</td>\n",
       "      <td>0.401935</td>\n",
       "    </tr>\n",
       "    <tr>\n",
       "      <th>2</th>\n",
       "      <td>0.269231</td>\n",
       "      <td>0.437500</td>\n",
       "      <td>0.052632</td>\n",
       "      <td>0.333333</td>\n",
       "      <td>0.506556</td>\n",
       "      <td>0.531840</td>\n",
       "      <td>0.054374</td>\n",
       "      <td>0.212121</td>\n",
       "      <td>0.333333</td>\n",
       "      <td>0.229358</td>\n",
       "      <td>...</td>\n",
       "      <td>0.005018</td>\n",
       "      <td>0.179544</td>\n",
       "      <td>0.117431</td>\n",
       "      <td>0.384550</td>\n",
       "      <td>0.499219</td>\n",
       "      <td>0.204885</td>\n",
       "      <td>0.155967</td>\n",
       "      <td>0.360441</td>\n",
       "      <td>0.497968</td>\n",
       "      <td>0.407742</td>\n",
       "    </tr>\n",
       "    <tr>\n",
       "      <th>3</th>\n",
       "      <td>0.153846</td>\n",
       "      <td>0.357143</td>\n",
       "      <td>0.039474</td>\n",
       "      <td>0.266667</td>\n",
       "      <td>0.352880</td>\n",
       "      <td>0.394131</td>\n",
       "      <td>0.019654</td>\n",
       "      <td>0.171717</td>\n",
       "      <td>0.277778</td>\n",
       "      <td>0.091743</td>\n",
       "      <td>...</td>\n",
       "      <td>0.004801</td>\n",
       "      <td>0.091771</td>\n",
       "      <td>0.145349</td>\n",
       "      <td>0.243064</td>\n",
       "      <td>0.630533</td>\n",
       "      <td>0.023469</td>\n",
       "      <td>0.124430</td>\n",
       "      <td>0.336023</td>\n",
       "      <td>0.134458</td>\n",
       "      <td>0.252258</td>\n",
       "    </tr>\n",
       "    <tr>\n",
       "      <th>4</th>\n",
       "      <td>0.153846</td>\n",
       "      <td>0.357143</td>\n",
       "      <td>0.039474</td>\n",
       "      <td>0.266667</td>\n",
       "      <td>0.350523</td>\n",
       "      <td>0.320546</td>\n",
       "      <td>0.013154</td>\n",
       "      <td>0.101010</td>\n",
       "      <td>0.166667</td>\n",
       "      <td>0.110092</td>\n",
       "      <td>...</td>\n",
       "      <td>0.011166</td>\n",
       "      <td>0.130755</td>\n",
       "      <td>0.067583</td>\n",
       "      <td>0.250832</td>\n",
       "      <td>0.516053</td>\n",
       "      <td>0.111398</td>\n",
       "      <td>0.125693</td>\n",
       "      <td>0.332113</td>\n",
       "      <td>0.295913</td>\n",
       "      <td>0.253548</td>\n",
       "    </tr>\n",
       "  </tbody>\n",
       "</table>\n",
       "<p>5 rows × 202 columns</p>\n",
       "</div>"
      ],
      "text/plain": [
       "        oz1       oz2       oz3       oz4       oz5       oz6       oz7  \\\n",
       "0  0.076923  0.325000  0.035088  0.200000  0.162112  0.194562  0.003900   \n",
       "1  0.230769  0.375000  0.042105  0.333333  0.464191  0.622795  0.077623   \n",
       "2  0.269231  0.437500  0.052632  0.333333  0.506556  0.531840  0.054374   \n",
       "3  0.153846  0.357143  0.039474  0.266667  0.352880  0.394131  0.019654   \n",
       "4  0.153846  0.357143  0.039474  0.266667  0.350523  0.320546  0.013154   \n",
       "\n",
       "        oz8       oz9      oz10  ...     oz193     oz194     oz195     oz196  \\\n",
       "0  0.060606  0.166667  0.045872  ...  0.013874  0.071602  0.056880  0.179132   \n",
       "1  0.373737  0.305556  0.192661  ...  0.006342  0.186056  0.287438  0.384236   \n",
       "2  0.212121  0.333333  0.229358  ...  0.005018  0.179544  0.117431  0.384550   \n",
       "3  0.171717  0.277778  0.091743  ...  0.004801  0.091771  0.145349  0.243064   \n",
       "4  0.101010  0.166667  0.110092  ...  0.011166  0.130755  0.067583  0.250832   \n",
       "\n",
       "      oz197     oz198     oz199     oz200     oz201     oz202  \n",
       "0  0.505899  0.039213  0.091327  0.321109  0.127564  0.188387  \n",
       "1  0.683820  0.326584  0.117990  0.456665  0.475618  0.401935  \n",
       "2  0.499219  0.204885  0.155967  0.360441  0.497968  0.407742  \n",
       "3  0.630533  0.023469  0.124430  0.336023  0.134458  0.252258  \n",
       "4  0.516053  0.111398  0.125693  0.332113  0.295913  0.253548  \n",
       "\n",
       "[5 rows x 202 columns]"
      ]
     },
     "execution_count": 6,
     "metadata": {},
     "output_type": "execute_result"
    }
   ],
   "source": [
    "df = fetch_openml(\"mtp\", version=1)\n",
    "\n",
    "df.data.head()"
   ]
  },
  {
   "cell_type": "code",
   "execution_count": 7,
   "metadata": {},
   "outputs": [
    {
     "data": {
      "image/png": "[encoded data removed]",
      "text/plain": [
       "<Figure size 640x480 with 1 Axes>"
      ]
     },
     "metadata": {},
     "output_type": "display_data"
    }
   ],
   "source": [
    "plt.hist(df.target, 100)\n",
    "_ = plt.plot()"
   ]
  },
  {
   "cell_type": "markdown",
   "metadata": {},
   "source": [
    "### 2. Постройте простую модель регрессии и оцените ее качество.\n"
   ]
  },
  {
   "cell_type": "code",
   "execution_count": 8,
   "metadata": {},
   "outputs": [],
   "source": [
    "from sklearn.model_selection import train_test_split\n",
    "X_train, X_test, y_train, y_test = train_test_split(df.data, df.target, test_size=0.25, random_state=42)"
   ]
  },
  {
   "cell_type": "code",
   "execution_count": 9,
   "metadata": {},
   "outputs": [
    {
     "data": {
      "text/plain": [
       "-1.651134077674007"
      ]
     },
     "execution_count": 9,
     "metadata": {},
     "output_type": "execute_result"
    }
   ],
   "source": [
    "from sklearn.linear_model import LinearRegression\n",
    "\n",
    "\n",
    "baseline = LinearRegression()\n",
    "baseline.fit(X_train, y_train)\n",
    "bl_score = baseline.score(X_test, y_test)\n",
    "bl_score"
   ]
  },
  {
   "cell_type": "code",
   "execution_count": 10,
   "metadata": {},
   "outputs": [
    {
     "data": {
      "text/plain": [
       "(0.0, 8.0)"
      ]
     },
     "execution_count": 10,
     "metadata": {},
     "output_type": "execute_result"
    },
    {
     "data": {
      "image/png": "[encoded data removed]",
      "text/plain": [
       "<Figure size 640x480 with 1 Axes>"
      ]
     },
     "metadata": {},
     "output_type": "display_data"
    }
   ],
   "source": [
    "yy = baseline.predict(X_test)\n",
    "\n",
    "plt.scatter(yy, y_test)\n",
    "plt.plot(y_test, y_test, c='r')\n",
    "plt.ylim(0, 8)"
   ]
  },
  {
   "cell_type": "markdown",
   "metadata": {},
   "source": [
    "### 3. Отберите признаки, наиболее сильно влияющие на значение целевой переменной."
   ]
  },
  {
   "cell_type": "code",
   "execution_count": 11,
   "metadata": {},
   "outputs": [],
   "source": [
    "from sklearn.ensemble import RandomForestRegressor\n",
    "rf = RandomForestRegressor(n_estimators=15).fit(X_train, y_train)"
   ]
  },
  {
   "cell_type": "code",
   "execution_count": 12,
   "metadata": {},
   "outputs": [
    {
     "data": {
      "text/plain": [
       "Text(0.5, 0, 'Feature Importance')"
      ]
     },
     "execution_count": 12,
     "metadata": {},
     "output_type": "execute_result"
    },
    {
     "data": {
      "image/png": "[encoded data removed]",
      "text/plain": [
       "<Figure size 640x480 with 1 Axes>"
      ]
     },
     "metadata": {},
     "output_type": "display_data"
    }
   ],
   "source": [
    "sort = rf.feature_importances_.argsort()\n",
    "plt.barh(df.data.columns[sort], rf.feature_importances_[sort])\n",
    "plt.xlabel(\"Feature Importance\")"
   ]
  },
  {
   "cell_type": "code",
   "execution_count": 13,
   "metadata": {},
   "outputs": [
    {
     "data": {
      "text/plain": [
       "array([0.01388093, 0.01429425, 0.01429583, 0.01579696, 0.01614655,\n",
       "       0.02732015, 0.03461887, 0.05264596, 0.06052042, 0.12408091])"
      ]
     },
     "execution_count": 13,
     "metadata": {},
     "output_type": "execute_result"
    }
   ],
   "source": [
    "rf.feature_importances_[sort][-10:]"
   ]
  },
  {
   "cell_type": "code",
   "execution_count": 14,
   "metadata": {},
   "outputs": [
    {
     "data": {
      "text/plain": [
       "Index(['oz112', 'oz8', 'oz137', 'oz20', 'oz198', 'oz18', 'oz48', 'oz35',\n",
       "       'oz15', 'oz141'],\n",
       "      dtype='object')"
      ]
     },
     "execution_count": 14,
     "metadata": {},
     "output_type": "execute_result"
    }
   ],
   "source": [
    "df.data.columns[sort][-10:]"
   ]
  },
  {
   "cell_type": "code",
   "execution_count": 15,
   "metadata": {},
   "outputs": [
    {
     "data": {
      "text/html": [
       "<div>\n",
       "<style scoped>\n",
       "    .dataframe tbody tr th:only-of-type {\n",
       "        vertical-align: middle;\n",
       "    }\n",
       "\n",
       "    .dataframe tbody tr th {\n",
       "        vertical-align: top;\n",
       "    }\n",
       "\n",
       "    .dataframe thead th {\n",
       "        text-align: right;\n",
       "    }\n",
       "</style>\n",
       "<table border=\"1\" class=\"dataframe\">\n",
       "  <thead>\n",
       "    <tr style=\"text-align: right;\">\n",
       "      <th></th>\n",
       "      <th>oz155</th>\n",
       "      <th>oz201</th>\n",
       "      <th>oz12</th>\n",
       "      <th>oz157</th>\n",
       "      <th>oz195</th>\n",
       "      <th>oz154</th>\n",
       "      <th>oz109</th>\n",
       "      <th>oz158</th>\n",
       "      <th>oz162</th>\n",
       "      <th>oz197</th>\n",
       "      <th>oz112</th>\n",
       "      <th>oz8</th>\n",
       "      <th>oz137</th>\n",
       "      <th>oz20</th>\n",
       "      <th>oz198</th>\n",
       "      <th>oz18</th>\n",
       "      <th>oz48</th>\n",
       "      <th>oz35</th>\n",
       "      <th>oz15</th>\n",
       "      <th>oz141</th>\n",
       "    </tr>\n",
       "  </thead>\n",
       "  <tbody>\n",
       "    <tr>\n",
       "      <th>0</th>\n",
       "      <td>0.752291</td>\n",
       "      <td>0.127564</td>\n",
       "      <td>0.227174</td>\n",
       "      <td>0.000000</td>\n",
       "      <td>0.056880</td>\n",
       "      <td>0.030205</td>\n",
       "      <td>0.076923</td>\n",
       "      <td>0.800120</td>\n",
       "      <td>0.319206</td>\n",
       "      <td>0.505899</td>\n",
       "      <td>0.000000</td>\n",
       "      <td>0.060606</td>\n",
       "      <td>0.000000</td>\n",
       "      <td>0.000000</td>\n",
       "      <td>0.039213</td>\n",
       "      <td>0.0625</td>\n",
       "      <td>0.312855</td>\n",
       "      <td>0.0</td>\n",
       "      <td>0.000000</td>\n",
       "      <td>0.041308</td>\n",
       "    </tr>\n",
       "    <tr>\n",
       "      <th>1</th>\n",
       "      <td>0.745984</td>\n",
       "      <td>0.475618</td>\n",
       "      <td>0.761155</td>\n",
       "      <td>0.000281</td>\n",
       "      <td>0.287438</td>\n",
       "      <td>0.016908</td>\n",
       "      <td>0.153846</td>\n",
       "      <td>0.791224</td>\n",
       "      <td>0.306084</td>\n",
       "      <td>0.683820</td>\n",
       "      <td>0.222222</td>\n",
       "      <td>0.373737</td>\n",
       "      <td>0.278945</td>\n",
       "      <td>0.242424</td>\n",
       "      <td>0.326584</td>\n",
       "      <td>0.0625</td>\n",
       "      <td>0.297041</td>\n",
       "      <td>0.4</td>\n",
       "      <td>0.282828</td>\n",
       "      <td>0.212274</td>\n",
       "    </tr>\n",
       "    <tr>\n",
       "      <th>2</th>\n",
       "      <td>0.753298</td>\n",
       "      <td>0.497968</td>\n",
       "      <td>0.217078</td>\n",
       "      <td>0.001852</td>\n",
       "      <td>0.117431</td>\n",
       "      <td>0.006922</td>\n",
       "      <td>0.076923</td>\n",
       "      <td>0.798276</td>\n",
       "      <td>0.406309</td>\n",
       "      <td>0.499219</td>\n",
       "      <td>0.000000</td>\n",
       "      <td>0.212121</td>\n",
       "      <td>0.000000</td>\n",
       "      <td>0.388889</td>\n",
       "      <td>0.204885</td>\n",
       "      <td>0.1250</td>\n",
       "      <td>0.288557</td>\n",
       "      <td>0.0</td>\n",
       "      <td>0.388889</td>\n",
       "      <td>0.063643</td>\n",
       "    </tr>\n",
       "    <tr>\n",
       "      <th>3</th>\n",
       "      <td>0.767469</td>\n",
       "      <td>0.134458</td>\n",
       "      <td>0.485033</td>\n",
       "      <td>0.000158</td>\n",
       "      <td>0.145349</td>\n",
       "      <td>0.001240</td>\n",
       "      <td>0.076923</td>\n",
       "      <td>0.800965</td>\n",
       "      <td>0.327848</td>\n",
       "      <td>0.630533</td>\n",
       "      <td>0.000000</td>\n",
       "      <td>0.171717</td>\n",
       "      <td>0.039437</td>\n",
       "      <td>0.095238</td>\n",
       "      <td>0.023469</td>\n",
       "      <td>0.0000</td>\n",
       "      <td>0.310692</td>\n",
       "      <td>0.1</td>\n",
       "      <td>0.111111</td>\n",
       "      <td>0.031193</td>\n",
       "    </tr>\n",
       "    <tr>\n",
       "      <th>4</th>\n",
       "      <td>0.741548</td>\n",
       "      <td>0.295913</td>\n",
       "      <td>0.279239</td>\n",
       "      <td>0.000037</td>\n",
       "      <td>0.067583</td>\n",
       "      <td>0.011829</td>\n",
       "      <td>0.076923</td>\n",
       "      <td>0.802893</td>\n",
       "      <td>0.329857</td>\n",
       "      <td>0.516053</td>\n",
       "      <td>0.000000</td>\n",
       "      <td>0.101010</td>\n",
       "      <td>0.000000</td>\n",
       "      <td>0.260870</td>\n",
       "      <td>0.111398</td>\n",
       "      <td>0.0625</td>\n",
       "      <td>0.286581</td>\n",
       "      <td>0.0</td>\n",
       "      <td>0.304348</td>\n",
       "      <td>0.063643</td>\n",
       "    </tr>\n",
       "  </tbody>\n",
       "</table>\n",
       "</div>"
      ],
      "text/plain": [
       "      oz155     oz201      oz12     oz157     oz195     oz154     oz109  \\\n",
       "0  0.752291  0.127564  0.227174  0.000000  0.056880  0.030205  0.076923   \n",
       "1  0.745984  0.475618  0.761155  0.000281  0.287438  0.016908  0.153846   \n",
       "2  0.753298  0.497968  0.217078  0.001852  0.117431  0.006922  0.076923   \n",
       "3  0.767469  0.134458  0.485033  0.000158  0.145349  0.001240  0.076923   \n",
       "4  0.741548  0.295913  0.279239  0.000037  0.067583  0.011829  0.076923   \n",
       "\n",
       "      oz158     oz162     oz197     oz112       oz8     oz137      oz20  \\\n",
       "0  0.800120  0.319206  0.505899  0.000000  0.060606  0.000000  0.000000   \n",
       "1  0.791224  0.306084  0.683820  0.222222  0.373737  0.278945  0.242424   \n",
       "2  0.798276  0.406309  0.499219  0.000000  0.212121  0.000000  0.388889   \n",
       "3  0.800965  0.327848  0.630533  0.000000  0.171717  0.039437  0.095238   \n",
       "4  0.802893  0.329857  0.516053  0.000000  0.101010  0.000000  0.260870   \n",
       "\n",
       "      oz198    oz18      oz48  oz35      oz15     oz141  \n",
       "0  0.039213  0.0625  0.312855   0.0  0.000000  0.041308  \n",
       "1  0.326584  0.0625  0.297041   0.4  0.282828  0.212274  \n",
       "2  0.204885  0.1250  0.288557   0.0  0.388889  0.063643  \n",
       "3  0.023469  0.0000  0.310692   0.1  0.111111  0.031193  \n",
       "4  0.111398  0.0625  0.286581   0.0  0.304348  0.063643  "
      ]
     },
     "execution_count": 15,
     "metadata": {},
     "output_type": "execute_result"
    }
   ],
   "source": [
    "trimmed = df.data[df.data.columns[sort][-20:]]\n",
    "trimmed.head()"
   ]
  },
  {
   "cell_type": "markdown",
   "metadata": {},
   "source": [
    "### 4. Постройте модель на оставшихся данных и оцените ее качество.\n"
   ]
  },
  {
   "cell_type": "code",
   "execution_count": 16,
   "metadata": {},
   "outputs": [
    {
     "name": "stdout",
     "output_type": "stream",
     "text": [
      "-1.651134077674007\n"
     ]
    },
    {
     "data": {
      "text/plain": [
       "0.4150025384928533"
      ]
     },
     "execution_count": 16,
     "metadata": {},
     "output_type": "execute_result"
    }
   ],
   "source": [
    "X_train, X_test, y_train, y_test = train_test_split(trimmed, df.target, test_size=0.25, random_state=42)\n",
    "\n",
    "better = LinearRegression()\n",
    "better.fit(X_train, y_train)\n",
    "\n",
    "print(bl_score)\n",
    "better.score(X_test, y_test)"
   ]
  },
  {
   "cell_type": "code",
   "execution_count": 17,
   "metadata": {},
   "outputs": [
    {
     "data": {
      "text/plain": [
       "[<matplotlib.lines.Line2D at 0x7ff187233d10>]"
      ]
     },
     "execution_count": 17,
     "metadata": {},
     "output_type": "execute_result"
    },
    {
     "data": {
      "image/png": "[encoded data removed]",
      "text/plain": [
       "<Figure size 640x480 with 1 Axes>"
      ]
     },
     "metadata": {},
     "output_type": "display_data"
    }
   ],
   "source": [
    "yy = better.predict(X_test)\n",
    "\n",
    "plt.scatter(yy, y_test)\n",
    "plt.plot(y_test, y_test, c='r')"
   ]
  },
  {
   "cell_type": "code",
   "execution_count": 18,
   "metadata": {},
   "outputs": [
    {
     "data": {
      "text/plain": [
       "(4450, 59)"
      ]
     },
     "execution_count": 18,
     "metadata": {},
     "output_type": "execute_result"
    }
   ],
   "source": [
    "from sklearn.feature_selection import SelectFromModel\n",
    "\n",
    "sfm = SelectFromModel(RandomForestRegressor(n_estimators=15)).fit(df.data, df.target)\n",
    "X_trimmed = sfm.transform(df.data)\n",
    "X_trimmed.shape"
   ]
  },
  {
   "cell_type": "code",
   "execution_count": 19,
   "metadata": {},
   "outputs": [
    {
     "name": "stdout",
     "output_type": "stream",
     "text": [
      "-1.651134077674007\n"
     ]
    },
    {
     "data": {
      "text/plain": [
       "0.4377635557067219"
      ]
     },
     "execution_count": 19,
     "metadata": {},
     "output_type": "execute_result"
    }
   ],
   "source": [
    "X_train, X_test, y_train, y_test = train_test_split(X_trimmed, df.target, test_size=0.25, random_state=42)\n",
    "\n",
    "better = LinearRegression()\n",
    "better.fit(X_train, y_train)\n",
    "\n",
    "print(bl_score)\n",
    "better.score(X_test, y_test)"
   ]
  },
  {
   "cell_type": "code",
   "execution_count": 20,
   "metadata": {},
   "outputs": [
    {
     "data": {
      "text/plain": [
       "[<matplotlib.lines.Line2D at 0x7ff181965fd0>]"
      ]
     },
     "execution_count": 20,
     "metadata": {},
     "output_type": "execute_result"
    },
    {
     "data": {
      "image/png": "[encoded data removed]",
      "text/plain": [
       "<Figure size 640x480 with 1 Axes>"
      ]
     },
     "metadata": {},
     "output_type": "display_data"
    }
   ],
   "source": [
    "yy = better.predict(X_test)\n",
    "\n",
    "plt.scatter(yy, y_test)\n",
    "plt.plot(y_test, y_test, c='r')"
   ]
  },
  {
   "cell_type": "markdown",
   "metadata": {},
   "source": [
    "### 7. Загрузите датасет для классификации. Постройте распределение целевой переменной.\n"
   ]
  },
  {
   "cell_type": "code",
   "execution_count": 21,
   "metadata": {},
   "outputs": [
    {
     "data": {
      "text/html": [
       "<div>\n",
       "<style scoped>\n",
       "    .dataframe tbody tr th:only-of-type {\n",
       "        vertical-align: middle;\n",
       "    }\n",
       "\n",
       "    .dataframe tbody tr th {\n",
       "        vertical-align: top;\n",
       "    }\n",
       "\n",
       "    .dataframe thead th {\n",
       "        text-align: right;\n",
       "    }\n",
       "</style>\n",
       "<table border=\"1\" class=\"dataframe\">\n",
       "  <thead>\n",
       "    <tr style=\"text-align: right;\">\n",
       "      <th></th>\n",
       "      <th>left-weight</th>\n",
       "      <th>left-distance</th>\n",
       "      <th>right-weight</th>\n",
       "      <th>right-distance</th>\n",
       "    </tr>\n",
       "  </thead>\n",
       "  <tbody>\n",
       "    <tr>\n",
       "      <th>0</th>\n",
       "      <td>1</td>\n",
       "      <td>1</td>\n",
       "      <td>1</td>\n",
       "      <td>1</td>\n",
       "    </tr>\n",
       "    <tr>\n",
       "      <th>1</th>\n",
       "      <td>1</td>\n",
       "      <td>1</td>\n",
       "      <td>1</td>\n",
       "      <td>2</td>\n",
       "    </tr>\n",
       "    <tr>\n",
       "      <th>2</th>\n",
       "      <td>1</td>\n",
       "      <td>1</td>\n",
       "      <td>1</td>\n",
       "      <td>3</td>\n",
       "    </tr>\n",
       "    <tr>\n",
       "      <th>3</th>\n",
       "      <td>1</td>\n",
       "      <td>1</td>\n",
       "      <td>1</td>\n",
       "      <td>4</td>\n",
       "    </tr>\n",
       "    <tr>\n",
       "      <th>4</th>\n",
       "      <td>1</td>\n",
       "      <td>1</td>\n",
       "      <td>1</td>\n",
       "      <td>5</td>\n",
       "    </tr>\n",
       "  </tbody>\n",
       "</table>\n",
       "</div>"
      ],
      "text/plain": [
       "   left-weight  left-distance  right-weight  right-distance\n",
       "0            1              1             1               1\n",
       "1            1              1             1               2\n",
       "2            1              1             1               3\n",
       "3            1              1             1               4\n",
       "4            1              1             1               5"
      ]
     },
     "execution_count": 21,
     "metadata": {},
     "output_type": "execute_result"
    }
   ],
   "source": [
    "df = fetch_openml(\"balance-scale\", version=1)\n",
    "\n",
    "df.data.head()"
   ]
  },
  {
   "cell_type": "code",
   "execution_count": 22,
   "metadata": {},
   "outputs": [
    {
     "data": {
      "text/plain": [
       "(array([ 49.,   0.,   0.,   0.,   0., 288.,   0.,   0.,   0., 288.]),\n",
       " array([0. , 0.2, 0.4, 0.6, 0.8, 1. , 1.2, 1.4, 1.6, 1.8, 2. ]),\n",
       " <BarContainer object of 10 artists>)"
      ]
     },
     "execution_count": 22,
     "metadata": {},
     "output_type": "execute_result"
    },
    {
     "data": {
      "image/png": "[encoded data removed]",
      "text/plain": [
       "<Figure size 640x480 with 1 Axes>"
      ]
     },
     "metadata": {},
     "output_type": "display_data"
    }
   ],
   "source": [
    "plt.hist(df.target)"
   ]
  },
  {
   "cell_type": "markdown",
   "metadata": {},
   "source": [
    "### 8. Разделите датасет на тестовую и обучающую выборки, постройте и оцените baseline модель классификации."
   ]
  },
  {
   "cell_type": "code",
   "execution_count": 23,
   "metadata": {},
   "outputs": [],
   "source": [
    "X_train, X_test, y_train, y_test = train_test_split(df.data, df.target, test_size=0.25, random_state=42, stratify=df.target)"
   ]
  },
  {
   "cell_type": "code",
   "execution_count": 24,
   "metadata": {},
   "outputs": [
    {
     "data": {
      "text/plain": [
       "(array([72.,  0.,  0.,  0.,  0., 73.,  0.,  0.,  0., 12.]),\n",
       " array([0. , 0.2, 0.4, 0.6, 0.8, 1. , 1.2, 1.4, 1.6, 1.8, 2. ]),\n",
       " <BarContainer object of 10 artists>)"
      ]
     },
     "execution_count": 24,
     "metadata": {},
     "output_type": "execute_result"
    },
    {
     "data": {
      "image/png": "[encoded data removed]",
      "text/plain": [
       "<Figure size 640x480 with 1 Axes>"
      ]
     },
     "metadata": {},
     "output_type": "display_data"
    }
   ],
   "source": [
    "plt.hist(y_test)"
   ]
  },
  {
   "cell_type": "code",
   "execution_count": 25,
   "metadata": {},
   "outputs": [
    {
     "data": {
      "text/plain": [
       "0.8598726114649682"
      ]
     },
     "execution_count": 25,
     "metadata": {},
     "output_type": "execute_result"
    }
   ],
   "source": [
    "from sklearn.linear_model import LogisticRegression\n",
    "\n",
    "\n",
    "baseline = LogisticRegression()\n",
    "baseline.fit(X_train, y_train)\n",
    "bl_score = baseline.score(X_test, y_test)\n",
    "bl_score"
   ]
  },
  {
   "cell_type": "code",
   "execution_count": 26,
   "metadata": {},
   "outputs": [
    {
     "name": "stdout",
     "output_type": "stream",
     "text": [
      "              precision    recall  f1-score   support\n",
      "\n",
      "           B       0.00      0.00      0.00        12\n",
      "           L       0.87      0.92      0.89        73\n",
      "           R       0.86      0.94      0.90        72\n",
      "\n",
      "    accuracy                           0.86       157\n",
      "   macro avg       0.58      0.62      0.60       157\n",
      "weighted avg       0.80      0.86      0.83       157\n",
      "\n"
     ]
    }
   ],
   "source": [
    "from sklearn.metrics import classification_report, confusion_matrix\n",
    "\n",
    "print(classification_report(y_test, baseline.predict(X_test)))"
   ]
  },
  {
   "cell_type": "code",
   "execution_count": 27,
   "metadata": {},
   "outputs": [
    {
     "name": "stdout",
     "output_type": "stream",
     "text": [
      "[[ 0  6  6]\n",
      " [ 1 67  5]\n",
      " [ 0  4 68]]\n"
     ]
    }
   ],
   "source": [
    "print(confusion_matrix(y_test, baseline.predict(X_test)))"
   ]
  },
  {
   "cell_type": "markdown",
   "metadata": {},
   "source": [
    "### 9. Постройте ту же модель с применением весов классов. Сравните ее качество, сделайте выводы."
   ]
  },
  {
   "cell_type": "code",
   "execution_count": 28,
   "metadata": {},
   "outputs": [
    {
     "data": {
      "text/plain": [
       "{'B': 4.216216216216216, 'L': 0.7255813953488373, 'R': 0.7222222222222222}"
      ]
     },
     "execution_count": 28,
     "metadata": {},
     "output_type": "execute_result"
    }
   ],
   "source": [
    "from sklearn.utils.class_weight import compute_class_weight\n",
    "\n",
    "class_weights = compute_class_weight('balanced', classes=np.unique(y_train), y=y_train)\n",
    "class_weights = dict(zip(np.unique(y_train), class_weights))\n",
    "class_weights"
   ]
  },
  {
   "cell_type": "code",
   "execution_count": 29,
   "metadata": {},
   "outputs": [
    {
     "name": "stdout",
     "output_type": "stream",
     "text": [
      "0.8598726114649682\n"
     ]
    },
    {
     "data": {
      "text/plain": [
       "0.9235668789808917"
      ]
     },
     "execution_count": 29,
     "metadata": {},
     "output_type": "execute_result"
    }
   ],
   "source": [
    "weighted = LogisticRegression(class_weight=class_weights)\n",
    "weighted.fit(X_train, y_train)\n",
    "print(bl_score)\n",
    "weighted.score(X_test, y_test)"
   ]
  },
  {
   "cell_type": "code",
   "execution_count": 30,
   "metadata": {},
   "outputs": [
    {
     "name": "stdout",
     "output_type": "stream",
     "text": [
      "              precision    recall  f1-score   support\n",
      "\n",
      "           B       0.61      0.92      0.73        12\n",
      "           L       0.97      0.92      0.94        73\n",
      "           R       0.96      0.93      0.94        72\n",
      "\n",
      "    accuracy                           0.92       157\n",
      "   macro avg       0.85      0.92      0.87       157\n",
      "weighted avg       0.94      0.92      0.93       157\n",
      "\n",
      "[[11  0  1]\n",
      " [ 4 67  2]\n",
      " [ 3  2 67]]\n"
     ]
    }
   ],
   "source": [
    "print(classification_report(y_test, weighted.predict(X_test)))\n",
    "print(confusion_matrix(y_test, weighted.predict(X_test)))"
   ]
  },
  {
   "cell_type": "markdown",
   "metadata": {},
   "source": [
    "### 10. Выравняйте распределение классов путем оверсемплинга с повторением"
   ]
  },
  {
   "cell_type": "code",
   "execution_count": 31,
   "metadata": {},
   "outputs": [
    {
     "data": {
      "text/plain": [
       "R    216\n",
       "L    215\n",
       "B     37\n",
       "Name: class, dtype: int64"
      ]
     },
     "execution_count": 31,
     "metadata": {},
     "output_type": "execute_result"
    }
   ],
   "source": [
    "y_train.value_counts()"
   ]
  },
  {
   "cell_type": "code",
   "execution_count": 32,
   "metadata": {},
   "outputs": [],
   "source": [
    "X_train[\"target\"] = y_train"
   ]
  },
  {
   "cell_type": "code",
   "execution_count": 33,
   "metadata": {},
   "outputs": [],
   "source": [
    "oversampled = X_train[X_train.target == \"B\"].sample(n=216-37, replace=True, ignore_index=True)"
   ]
  },
  {
   "cell_type": "code",
   "execution_count": 34,
   "metadata": {},
   "outputs": [
    {
     "name": "stdout",
     "output_type": "stream",
     "text": [
      "(647, 5)\n"
     ]
    },
    {
     "data": {
      "text/html": [
       "<div>\n",
       "<style scoped>\n",
       "    .dataframe tbody tr th:only-of-type {\n",
       "        vertical-align: middle;\n",
       "    }\n",
       "\n",
       "    .dataframe tbody tr th {\n",
       "        vertical-align: top;\n",
       "    }\n",
       "\n",
       "    .dataframe thead th {\n",
       "        text-align: right;\n",
       "    }\n",
       "</style>\n",
       "<table border=\"1\" class=\"dataframe\">\n",
       "  <thead>\n",
       "    <tr style=\"text-align: right;\">\n",
       "      <th></th>\n",
       "      <th>left-weight</th>\n",
       "      <th>left-distance</th>\n",
       "      <th>right-weight</th>\n",
       "      <th>right-distance</th>\n",
       "      <th>target</th>\n",
       "    </tr>\n",
       "  </thead>\n",
       "  <tbody>\n",
       "    <tr>\n",
       "      <th>262</th>\n",
       "      <td>3</td>\n",
       "      <td>1</td>\n",
       "      <td>3</td>\n",
       "      <td>3</td>\n",
       "      <td>R</td>\n",
       "    </tr>\n",
       "    <tr>\n",
       "      <th>401</th>\n",
       "      <td>4</td>\n",
       "      <td>2</td>\n",
       "      <td>1</td>\n",
       "      <td>2</td>\n",
       "      <td>L</td>\n",
       "    </tr>\n",
       "    <tr>\n",
       "      <th>174</th>\n",
       "      <td>2</td>\n",
       "      <td>2</td>\n",
       "      <td>5</td>\n",
       "      <td>5</td>\n",
       "      <td>R</td>\n",
       "    </tr>\n",
       "    <tr>\n",
       "      <th>81</th>\n",
       "      <td>1</td>\n",
       "      <td>4</td>\n",
       "      <td>2</td>\n",
       "      <td>2</td>\n",
       "      <td>B</td>\n",
       "    </tr>\n",
       "    <tr>\n",
       "      <th>36</th>\n",
       "      <td>1</td>\n",
       "      <td>2</td>\n",
       "      <td>3</td>\n",
       "      <td>2</td>\n",
       "      <td>R</td>\n",
       "    </tr>\n",
       "  </tbody>\n",
       "</table>\n",
       "</div>"
      ],
      "text/plain": [
       "     left-weight  left-distance  right-weight  right-distance target\n",
       "262            3              1             3               3      R\n",
       "401            4              2             1               2      L\n",
       "174            2              2             5               5      R\n",
       "81             1              4             2               2      B\n",
       "36             1              2             3               2      R"
      ]
     },
     "execution_count": 34,
     "metadata": {},
     "output_type": "execute_result"
    }
   ],
   "source": [
    "oversampled = pd.concat([X_train, oversampled])\n",
    "print(oversampled.shape)\n",
    "oversampled.head()"
   ]
  },
  {
   "cell_type": "code",
   "execution_count": 35,
   "metadata": {},
   "outputs": [
    {
     "data": {
      "text/plain": [
       "(array([216.,   0.,   0.,   0.,   0., 215.,   0.,   0.,   0., 216.]),\n",
       " array([0. , 0.2, 0.4, 0.6, 0.8, 1. , 1.2, 1.4, 1.6, 1.8, 2. ]),\n",
       " <BarContainer object of 10 artists>)"
      ]
     },
     "execution_count": 35,
     "metadata": {},
     "output_type": "execute_result"
    },
    {
     "data": {
      "image/png": "[encoded data removed]",
      "text/plain": [
       "<Figure size 640x480 with 1 Axes>"
      ]
     },
     "metadata": {},
     "output_type": "display_data"
    }
   ],
   "source": [
    "plt.hist(oversampled[\"target\"])"
   ]
  },
  {
   "cell_type": "code",
   "execution_count": 36,
   "metadata": {},
   "outputs": [],
   "source": [
    "y_train_OS = oversampled.target\n",
    "X_train_OS = oversampled.drop([\"target\"], axis=1)"
   ]
  },
  {
   "cell_type": "code",
   "execution_count": 37,
   "metadata": {},
   "outputs": [
    {
     "name": "stdout",
     "output_type": "stream",
     "text": [
      "0.8598726114649682\n"
     ]
    },
    {
     "data": {
      "text/plain": [
       "0.9235668789808917"
      ]
     },
     "execution_count": 37,
     "metadata": {},
     "output_type": "execute_result"
    }
   ],
   "source": [
    "OSmodel = LogisticRegression()\n",
    "OSmodel.fit(X_train_OS, y_train_OS)\n",
    "print(bl_score)\n",
    "OSmodel.score(X_test, y_test)"
   ]
  },
  {
   "cell_type": "code",
   "execution_count": 38,
   "metadata": {},
   "outputs": [
    {
     "name": "stdout",
     "output_type": "stream",
     "text": [
      "              precision    recall  f1-score   support\n",
      "\n",
      "           B       0.61      0.92      0.73        12\n",
      "           L       0.97      0.92      0.94        73\n",
      "           R       0.96      0.93      0.94        72\n",
      "\n",
      "    accuracy                           0.92       157\n",
      "   macro avg       0.85      0.92      0.87       157\n",
      "weighted avg       0.94      0.92      0.93       157\n",
      "\n",
      "[[11  0  1]\n",
      " [ 4 67  2]\n",
      " [ 3  2 67]]\n"
     ]
    }
   ],
   "source": [
    "print(classification_report(y_test, weighted.predict(X_test)))\n",
    "print(confusion_matrix(y_test, weighted.predict(X_test)))"
   ]
  },
  {
   "cell_type": "markdown",
   "metadata": {},
   "source": [
    "### 5. Загрузите второй датасет для регрессии и постройте распределение целевой переменной."
   ]
  },
  {
   "cell_type": "code",
   "execution_count": 39,
   "metadata": {},
   "outputs": [
    {
     "name": "stderr",
     "output_type": "stream",
     "text": [
      "/tmp/ipykernel_1765/1011001378.py:2: SettingWithCopyWarning: \n",
      "A value is trying to be set on a copy of a slice from a DataFrame\n",
      "\n",
      "See the caveats in the documentation: https://pandas.pydata.org/pandas-docs/stable/user_guide/indexing.html#returning-a-view-versus-a-copy\n",
      "  df.data.drop([\"instance_id\"], inplace=True, axis=1)\n"
     ]
    },
    {
     "data": {
      "text/html": [
       "<div>\n",
       "<style scoped>\n",
       "    .dataframe tbody tr th:only-of-type {\n",
       "        vertical-align: middle;\n",
       "    }\n",
       "\n",
       "    .dataframe tbody tr th {\n",
       "        vertical-align: top;\n",
       "    }\n",
       "\n",
       "    .dataframe thead th {\n",
       "        text-align: right;\n",
       "    }\n",
       "</style>\n",
       "<table border=\"1\" class=\"dataframe\">\n",
       "  <thead>\n",
       "    <tr style=\"text-align: right;\">\n",
       "      <th></th>\n",
       "      <th>repetition</th>\n",
       "      <th>stacks</th>\n",
       "      <th>tiers</th>\n",
       "      <th>stack.tier.ratio</th>\n",
       "      <th>container.density</th>\n",
       "      <th>empty.stack.pct</th>\n",
       "      <th>overstowing.stack.pct</th>\n",
       "      <th>overstowing.2cont.stack.pct</th>\n",
       "      <th>group.same.min</th>\n",
       "      <th>group.same.max</th>\n",
       "      <th>...</th>\n",
       "      <th>avg.l1.top.left.lg.group</th>\n",
       "      <th>cont.empty.grt.estack</th>\n",
       "      <th>pct.bottom.pct.on.top</th>\n",
       "      <th>algorithm_astar.symmulgt.transmul</th>\n",
       "      <th>algorithm_astar.symmullt.transmul</th>\n",
       "      <th>algorithm_idastar.symmulgt.transmul</th>\n",
       "      <th>algorithm_idastar.symmullt.transmul</th>\n",
       "      <th>runstatus_memout</th>\n",
       "      <th>runstatus_ok</th>\n",
       "      <th>runstatus_timeout</th>\n",
       "    </tr>\n",
       "  </thead>\n",
       "  <tbody>\n",
       "    <tr>\n",
       "      <th>0</th>\n",
       "      <td>1</td>\n",
       "      <td>16</td>\n",
       "      <td>5</td>\n",
       "      <td>0.3125</td>\n",
       "      <td>0.6</td>\n",
       "      <td>0.0625</td>\n",
       "      <td>0.6250</td>\n",
       "      <td>0.909091</td>\n",
       "      <td>0</td>\n",
       "      <td>6</td>\n",
       "      <td>...</td>\n",
       "      <td>0.509615</td>\n",
       "      <td>0.1750</td>\n",
       "      <td>0.0</td>\n",
       "      <td>1</td>\n",
       "      <td>0</td>\n",
       "      <td>0</td>\n",
       "      <td>0</td>\n",
       "      <td>0</td>\n",
       "      <td>1</td>\n",
       "      <td>0</td>\n",
       "    </tr>\n",
       "    <tr>\n",
       "      <th>1</th>\n",
       "      <td>1</td>\n",
       "      <td>16</td>\n",
       "      <td>5</td>\n",
       "      <td>0.3125</td>\n",
       "      <td>0.6</td>\n",
       "      <td>0.0625</td>\n",
       "      <td>0.6250</td>\n",
       "      <td>0.909091</td>\n",
       "      <td>0</td>\n",
       "      <td>6</td>\n",
       "      <td>...</td>\n",
       "      <td>0.509615</td>\n",
       "      <td>0.1750</td>\n",
       "      <td>0.0</td>\n",
       "      <td>0</td>\n",
       "      <td>1</td>\n",
       "      <td>0</td>\n",
       "      <td>0</td>\n",
       "      <td>0</td>\n",
       "      <td>1</td>\n",
       "      <td>0</td>\n",
       "    </tr>\n",
       "    <tr>\n",
       "      <th>2</th>\n",
       "      <td>1</td>\n",
       "      <td>16</td>\n",
       "      <td>5</td>\n",
       "      <td>0.3125</td>\n",
       "      <td>0.6</td>\n",
       "      <td>0.0625</td>\n",
       "      <td>0.6250</td>\n",
       "      <td>0.909091</td>\n",
       "      <td>0</td>\n",
       "      <td>6</td>\n",
       "      <td>...</td>\n",
       "      <td>0.509615</td>\n",
       "      <td>0.1750</td>\n",
       "      <td>0.0</td>\n",
       "      <td>0</td>\n",
       "      <td>0</td>\n",
       "      <td>1</td>\n",
       "      <td>0</td>\n",
       "      <td>0</td>\n",
       "      <td>1</td>\n",
       "      <td>0</td>\n",
       "    </tr>\n",
       "    <tr>\n",
       "      <th>3</th>\n",
       "      <td>1</td>\n",
       "      <td>16</td>\n",
       "      <td>5</td>\n",
       "      <td>0.3125</td>\n",
       "      <td>0.6</td>\n",
       "      <td>0.0625</td>\n",
       "      <td>0.6250</td>\n",
       "      <td>0.909091</td>\n",
       "      <td>0</td>\n",
       "      <td>6</td>\n",
       "      <td>...</td>\n",
       "      <td>0.509615</td>\n",
       "      <td>0.1750</td>\n",
       "      <td>0.0</td>\n",
       "      <td>0</td>\n",
       "      <td>0</td>\n",
       "      <td>0</td>\n",
       "      <td>1</td>\n",
       "      <td>0</td>\n",
       "      <td>0</td>\n",
       "      <td>1</td>\n",
       "    </tr>\n",
       "    <tr>\n",
       "      <th>4</th>\n",
       "      <td>1</td>\n",
       "      <td>16</td>\n",
       "      <td>5</td>\n",
       "      <td>0.3125</td>\n",
       "      <td>0.6</td>\n",
       "      <td>0.1875</td>\n",
       "      <td>0.5625</td>\n",
       "      <td>1.000000</td>\n",
       "      <td>0</td>\n",
       "      <td>7</td>\n",
       "      <td>...</td>\n",
       "      <td>0.663462</td>\n",
       "      <td>0.3375</td>\n",
       "      <td>0.0</td>\n",
       "      <td>1</td>\n",
       "      <td>0</td>\n",
       "      <td>0</td>\n",
       "      <td>0</td>\n",
       "      <td>1</td>\n",
       "      <td>0</td>\n",
       "      <td>0</td>\n",
       "    </tr>\n",
       "  </tbody>\n",
       "</table>\n",
       "<p>5 rows × 30 columns</p>\n",
       "</div>"
      ],
      "text/plain": [
       "   repetition  stacks  tiers  stack.tier.ratio  container.density  \\\n",
       "0           1      16      5            0.3125                0.6   \n",
       "1           1      16      5            0.3125                0.6   \n",
       "2           1      16      5            0.3125                0.6   \n",
       "3           1      16      5            0.3125                0.6   \n",
       "4           1      16      5            0.3125                0.6   \n",
       "\n",
       "   empty.stack.pct  overstowing.stack.pct  overstowing.2cont.stack.pct  \\\n",
       "0           0.0625                 0.6250                     0.909091   \n",
       "1           0.0625                 0.6250                     0.909091   \n",
       "2           0.0625                 0.6250                     0.909091   \n",
       "3           0.0625                 0.6250                     0.909091   \n",
       "4           0.1875                 0.5625                     1.000000   \n",
       "\n",
       "   group.same.min  group.same.max  ...  avg.l1.top.left.lg.group  \\\n",
       "0               0               6  ...                  0.509615   \n",
       "1               0               6  ...                  0.509615   \n",
       "2               0               6  ...                  0.509615   \n",
       "3               0               6  ...                  0.509615   \n",
       "4               0               7  ...                  0.663462   \n",
       "\n",
       "   cont.empty.grt.estack  pct.bottom.pct.on.top  \\\n",
       "0                 0.1750                    0.0   \n",
       "1                 0.1750                    0.0   \n",
       "2                 0.1750                    0.0   \n",
       "3                 0.1750                    0.0   \n",
       "4                 0.3375                    0.0   \n",
       "\n",
       "   algorithm_astar.symmulgt.transmul  algorithm_astar.symmullt.transmul  \\\n",
       "0                                  1                                  0   \n",
       "1                                  0                                  1   \n",
       "2                                  0                                  0   \n",
       "3                                  0                                  0   \n",
       "4                                  1                                  0   \n",
       "\n",
       "   algorithm_idastar.symmulgt.transmul  algorithm_idastar.symmullt.transmul  \\\n",
       "0                                    0                                    0   \n",
       "1                                    0                                    0   \n",
       "2                                    1                                    0   \n",
       "3                                    0                                    1   \n",
       "4                                    0                                    0   \n",
       "\n",
       "   runstatus_memout  runstatus_ok  runstatus_timeout  \n",
       "0                 0             1                  0  \n",
       "1                 0             1                  0  \n",
       "2                 0             1                  0  \n",
       "3                 0             0                  1  \n",
       "4                 1             0                  0  \n",
       "\n",
       "[5 rows x 30 columns]"
      ]
     },
     "execution_count": 39,
     "metadata": {},
     "output_type": "execute_result"
    }
   ],
   "source": [
    "df = fetch_openml(\"CPMP-2015-regression\", version=1)\n",
    "df.data.drop([\"instance_id\"], inplace=True, axis=1)\n",
    "df.data = pd.get_dummies(df.data)\n",
    "df.data.head()"
   ]
  },
  {
   "cell_type": "code",
   "execution_count": 40,
   "metadata": {},
   "outputs": [
    {
     "data": {
      "image/png": "[encoded data removed]",
      "text/plain": [
       "<Figure size 640x480 with 1 Axes>"
      ]
     },
     "metadata": {},
     "output_type": "display_data"
    }
   ],
   "source": [
    "plt.hist(df.target, 100)\n",
    "_ = plt.plot()"
   ]
  },
  {
   "cell_type": "code",
   "execution_count": 41,
   "metadata": {},
   "outputs": [],
   "source": [
    "X_train, X_test, y_train, y_test = train_test_split(df.data, df.target, test_size=0.25, random_state=42)"
   ]
  },
  {
   "cell_type": "markdown",
   "metadata": {},
   "source": [
    "### 6. Сгруппируйте значения целевой переменной в категории. Постройте получившееся распределение."
   ]
  },
  {
   "cell_type": "code",
   "execution_count": 42,
   "metadata": {},
   "outputs": [],
   "source": [
    "from sklearn.preprocessing import KBinsDiscretizer\n",
    "\n",
    "y_binned = KBinsDiscretizer(n_bins=5, encode=\"ordinal\", strategy=\"uniform\").fit_transform(pd.DataFrame(y_train))"
   ]
  },
  {
   "cell_type": "code",
   "execution_count": 43,
   "metadata": {},
   "outputs": [
    {
     "data": {
      "text/plain": [
       "(array([1049.,    0.,   62.,    0.,    0.,   29.,    0.,   17.,    0.,\n",
       "         424.]),\n",
       " array([0. , 0.4, 0.8, 1.2, 1.6, 2. , 2.4, 2.8, 3.2, 3.6, 4. ]),\n",
       " <BarContainer object of 10 artists>)"
      ]
     },
     "execution_count": 43,
     "metadata": {},
     "output_type": "execute_result"
    },
    {
     "data": {
      "image/png": "[encoded data removed]",
      "text/plain": [
       "<Figure size 640x480 with 1 Axes>"
      ]
     },
     "metadata": {},
     "output_type": "display_data"
    }
   ],
   "source": [
    "plt.hist(y_binned)"
   ]
  },
  {
   "cell_type": "code",
   "execution_count": 44,
   "metadata": {},
   "outputs": [
    {
     "name": "stderr",
     "output_type": "stream",
     "text": [
      "/home/evgeniilaz/Python/Stepik/venv/lib/python3.11/site-packages/sklearn/preprocessing/_discretization.py:306: UserWarning: Bins whose width are too small (i.e., <= 1e-8) in feature 0 are removed. Consider decreasing the number of bins.\n",
      "  warnings.warn(\n"
     ]
    },
    {
     "data": {
      "text/plain": [
       "(array([316.,   0.,   0., 316.,   0.,   0., 316.,   0.,   0., 633.]),\n",
       " array([0. , 0.3, 0.6, 0.9, 1.2, 1.5, 1.8, 2.1, 2.4, 2.7, 3. ]),\n",
       " <BarContainer object of 10 artists>)"
      ]
     },
     "execution_count": 44,
     "metadata": {},
     "output_type": "execute_result"
    },
    {
     "data": {
      "image/png": "[encoded data removed]",
      "text/plain": [
       "<Figure size 640x480 with 1 Axes>"
      ]
     },
     "metadata": {},
     "output_type": "display_data"
    }
   ],
   "source": [
    "y_binned = KBinsDiscretizer(n_bins=5, encode=\"ordinal\", strategy=\"quantile\").fit_transform(pd.DataFrame(y_train))\n",
    "plt.hist(y_binned)"
   ]
  },
  {
   "cell_type": "markdown",
   "metadata": {},
   "source": [
    "# Задания для самостоятельной работы"
   ]
  },
  {
   "cell_type": "markdown",
   "metadata": {},
   "source": [
    "### 1. Исследуйте связь между количеством самых важных признаков, которые использует модель для обучения и тестовой точностью получившейся модели. Обучите несколько моделей с разным количеством наиболее важных признаков. Постройте график зависимости точности модели от количества признаков. Сделайте вывод."
   ]
  },
  {
   "cell_type": "code",
   "execution_count": 45,
   "metadata": {},
   "outputs": [],
   "source": [
    "from sklearn.datasets import fetch_openml\n",
    "from sklearn.model_selection import train_test_split\n",
    "\n",
    "\n",
    "df = fetch_openml(\"mtp\", version=1)\n",
    "X_train, X_test, y_train, y_test = train_test_split(df.data, df.target, test_size=0.25, random_state=42)"
   ]
  },
  {
   "cell_type": "code",
   "execution_count": 46,
   "metadata": {},
   "outputs": [
    {
     "data": {
      "image/png": "[encoded data removed]",
      "text/plain": [
       "<Figure size 800x500 with 1 Axes>"
      ]
     },
     "metadata": {},
     "output_type": "display_data"
    }
   ],
   "source": [
    "from sklearn.ensemble import RandomForestRegressor\n",
    "from sklearn.metrics import r2_score\n",
    "import matplotlib.pyplot as plt\n",
    "import numpy as np\n",
    "\n",
    "\n",
    "rf = RandomForestRegressor(n_estimators=15, random_state=42)\n",
    "rf.fit(X_train, y_train)\n",
    "\n",
    "importances = rf.feature_importances_\n",
    "sorted_idx = np.argsort(importances)[::-1]\n",
    "\n",
    "scores = []\n",
    "\n",
    "for k in range(1, 21):\n",
    "    top_k_features = X_train.columns[sorted_idx[:k]]\n",
    "    \n",
    "    rf_k = RandomForestRegressor(n_estimators=15, random_state=42)\n",
    "    rf_k.fit(X_train[top_k_features], y_train)\n",
    "    y_pred = rf_k.predict(X_test[top_k_features])\n",
    "    \n",
    "    score = r2_score(y_test, y_pred)\n",
    "    scores.append(score)\n",
    "\n",
    "plt.figure(figsize=(8, 5))\n",
    "plt.plot(range(1, 21), scores, marker='o')\n",
    "plt.title(\"Точность модели vs Кол-во признаков\")\n",
    "plt.xlabel(\"Количество признаков\")\n",
    "plt.ylabel(\"R2 score на тесте\")\n",
    "plt.grid(True)\n",
    "plt.show()"
   ]
  },
  {
   "cell_type": "markdown",
   "metadata": {},
   "source": [
    "### 2. Используйте другие методы отбора признаков"
   ]
  },
  {
   "cell_type": "code",
   "execution_count": 47,
   "metadata": {},
   "outputs": [
    {
     "name": "stdout",
     "output_type": "stream",
     "text": [
      "Исключение низкодисперсных признаков R²: -1.6511340760496669\n",
      "Отбор по F-тесту R²: 0.2544607141087718\n",
      "RFE R²: 0.07423548969595073\n",
      "SFS R²: 0.4295357751190132\n",
      "L1 (Lasso) R²: 0.4076872058221278\n"
     ]
    }
   ],
   "source": [
    "from sklearn.datasets import fetch_openml\n",
    "from sklearn.model_selection import train_test_split\n",
    "from sklearn.linear_model import LinearRegression, Lasso\n",
    "from sklearn.feature_selection import VarianceThreshold, SelectKBest, f_regression, RFE, SequentialFeatureSelector, SelectFromModel\n",
    "from sklearn.preprocessing import StandardScaler\n",
    "from sklearn.metrics import r2_score\n",
    "\n",
    "\n",
    "df = fetch_openml(\"mtp\", version=1, as_frame=True)\n",
    "X_train, X_test, y_train, y_test = train_test_split(df.data, df.target, test_size=0.25, random_state=42)\n",
    "\n",
    "scaler = StandardScaler()\n",
    "X_train_scaled = scaler.fit_transform(X_train)\n",
    "X_test_scaled = scaler.transform(X_test)\n",
    "\n",
    "model = LinearRegression()\n",
    "\n",
    "# 1. Исключение низкодисперсных признаков\n",
    "vt = VarianceThreshold(threshold=0.01)\n",
    "X_train_vt = vt.fit_transform(X_train_scaled)\n",
    "X_test_vt = vt.transform(X_test_scaled)\n",
    "print(\"Исключение низкодисперсных признаков R²:\", r2_score(y_test, model.fit(X_train_vt, y_train).predict(X_test_vt)))\n",
    "\n",
    "# 2. Отбор по F-тесту\n",
    "skb_f = SelectKBest(score_func=f_regression, k=10)\n",
    "X_train_f = skb_f.fit_transform(X_train_scaled, y_train)\n",
    "X_test_f = skb_f.transform(X_test_scaled)\n",
    "print(\"Отбор по F-тесту R²:\", r2_score(y_test, model.fit(X_train_f, y_train).predict(X_test_f)))\n",
    "\n",
    "# 3. Рекурсивное исключение признаков (RFE)\n",
    "rfe = RFE(estimator=LinearRegression(), n_features_to_select=10)\n",
    "X_train_rfe = rfe.fit_transform(X_train_scaled, y_train)\n",
    "X_test_rfe = rfe.transform(X_test_scaled)\n",
    "print(\"RFE R²:\", r2_score(y_test, model.fit(X_train_rfe, y_train).predict(X_test_rfe)))\n",
    "\n",
    "# 4. Последовательное включение признаков (SFS)\n",
    "sfs = SequentialFeatureSelector(LinearRegression(), n_features_to_select=10, direction='forward')\n",
    "X_train_sfs = sfs.fit_transform(X_train_scaled, y_train)\n",
    "X_test_sfs = sfs.transform(X_test_scaled)\n",
    "print(\"SFS R²:\", r2_score(y_test, model.fit(X_train_sfs, y_train).predict(X_test_sfs)))\n",
    "\n",
    "# 5. L1-регуляризация (Lasso)\n",
    "lasso = Lasso(alpha=0.01).fit(X_train_scaled, y_train)\n",
    "sfm = SelectFromModel(lasso, prefit=True)\n",
    "X_train_l1 = sfm.transform(X_train_scaled)\n",
    "X_test_l1 = sfm.transform(X_test_scaled)\n",
    "print(\"L1 (Lasso) R²:\", r2_score(y_test, model.fit(X_train_l1, y_train).predict(X_test_l1)))\n"
   ]
  },
  {
   "cell_type": "markdown",
   "metadata": {},
   "source": [
    "### 3. Изучите возможности библиотеки imbalanced-learn. Примените на данном примере возможности данной библиотеки для оверсемплинга и андерсемплинга выборки."
   ]
  },
  {
   "cell_type": "code",
   "execution_count": 48,
   "metadata": {},
   "outputs": [
    {
     "name": "stdout",
     "output_type": "stream",
     "text": [
      "Оригинальная выборка:\n",
      "              precision    recall  f1-score   support\n",
      "\n",
      "           B       0.00      0.00      0.00        12\n",
      "           L       0.87      0.93      0.90        73\n",
      "           R       0.86      0.94      0.90        72\n",
      "\n",
      "    accuracy                           0.87       157\n",
      "   macro avg       0.58      0.63      0.60       157\n",
      "weighted avg       0.80      0.87      0.83       157\n",
      "\n",
      "\n",
      "После SMOTE (оверсемплинг):\n",
      "              precision    recall  f1-score   support\n",
      "\n",
      "           B       0.61      0.92      0.73        12\n",
      "           L       0.97      0.92      0.94        73\n",
      "           R       0.96      0.93      0.94        72\n",
      "\n",
      "    accuracy                           0.92       157\n",
      "   macro avg       0.85      0.92      0.87       157\n",
      "weighted avg       0.94      0.92      0.93       157\n",
      "\n",
      "\n",
      "После RandomUnderSampler (андерсемплинг):\n",
      "              precision    recall  f1-score   support\n",
      "\n",
      "           B       0.35      0.92      0.51        12\n",
      "           L       1.00      0.79      0.89        73\n",
      "           R       0.97      0.92      0.94        72\n",
      "\n",
      "    accuracy                           0.86       157\n",
      "   macro avg       0.78      0.88      0.78       157\n",
      "weighted avg       0.94      0.86      0.88       157\n",
      "\n"
     ]
    },
    {
     "name": "stderr",
     "output_type": "stream",
     "text": [
      "/home/evgeniilaz/Python/Stepik/venv/lib/python3.11/site-packages/sklearn/metrics/_classification.py:1565: UndefinedMetricWarning: Precision is ill-defined and being set to 0.0 in labels with no predicted samples. Use `zero_division` parameter to control this behavior.\n",
      "  _warn_prf(average, modifier, f\"{metric.capitalize()} is\", len(result))\n",
      "/home/evgeniilaz/Python/Stepik/venv/lib/python3.11/site-packages/sklearn/metrics/_classification.py:1565: UndefinedMetricWarning: Precision is ill-defined and being set to 0.0 in labels with no predicted samples. Use `zero_division` parameter to control this behavior.\n",
      "  _warn_prf(average, modifier, f\"{metric.capitalize()} is\", len(result))\n",
      "/home/evgeniilaz/Python/Stepik/venv/lib/python3.11/site-packages/sklearn/metrics/_classification.py:1565: UndefinedMetricWarning: Precision is ill-defined and being set to 0.0 in labels with no predicted samples. Use `zero_division` parameter to control this behavior.\n",
      "  _warn_prf(average, modifier, f\"{metric.capitalize()} is\", len(result))\n"
     ]
    }
   ],
   "source": [
    "from sklearn.datasets import fetch_openml\n",
    "from sklearn.model_selection import train_test_split\n",
    "from sklearn.preprocessing import StandardScaler\n",
    "from sklearn.linear_model import LogisticRegression\n",
    "from sklearn.metrics import classification_report\n",
    "from imblearn.over_sampling import SMOTE\n",
    "from imblearn.under_sampling import RandomUnderSampler\n",
    "\n",
    "df = fetch_openml(\"balance-scale\", version=1)\n",
    "\n",
    "X_train, X_test, y_train, y_test = train_test_split(df.data, df.target, test_size=0.25, random_state=42, stratify=df.target)\n",
    "\n",
    "scaler = StandardScaler()\n",
    "X_train_scaled = scaler.fit_transform(X_train)\n",
    "X_test_scaled = scaler.transform(X_test)\n",
    "\n",
    "# Оверсемплинг\n",
    "smote = SMOTE(random_state=42)\n",
    "X_smote, y_smote = smote.fit_resample(X_train_scaled, y_train)\n",
    "\n",
    "# Андерсемплинг\n",
    "rus = RandomUnderSampler(random_state=42)\n",
    "X_rus, y_rus = rus.fit_resample(X_train_scaled, y_train)\n",
    "\n",
    "model = LogisticRegression()\n",
    "\n",
    "print(\"Оригинальная выборка:\")\n",
    "model.fit(X_train_scaled, y_train)\n",
    "print(classification_report(y_test, model.predict(X_test_scaled)))\n",
    "\n",
    "print(\"\\nПосле SMOTE (оверсемплинг):\")\n",
    "model.fit(X_smote, y_smote)\n",
    "print(classification_report(y_test, model.predict(X_test_scaled)))\n",
    "\n",
    "print(\"\\nПосле RandomUnderSampler (андерсемплинг):\")\n",
    "model.fit(X_rus, y_rus)\n",
    "print(classification_report(y_test, model.predict(X_test_scaled)))"
   ]
  },
  {
   "cell_type": "markdown",
   "metadata": {},
   "source": [
    "### 4. Исследуйте влияние дискретизации целевой переменной на качество модели. Используйте уже продемострированный подход - построение базовой модели (baseline) и сравнение модели после обработки данных с базовой. Проверьте разное количество категорий, а также разные стратегии группировки. Сделайте выводы. Обратите внимание, что после биннинга целевой переменной она стала категориальной. А значит, задача превратилась в задачу классификации."
   ]
  },
  {
   "cell_type": "code",
   "execution_count": 49,
   "metadata": {},
   "outputs": [
    {
     "name": "stdout",
     "output_type": "stream",
     "text": [
      "Регрессия (baseline): RMSE = 472.9842891799261\n",
      "Классификация: strategy=uniform, bins=3 -> Accuracy = 0.941, F1 = 0.676\n",
      "Классификация: strategy=uniform, bins=5 -> Accuracy = 0.922, F1 = 0.462\n",
      "Классификация: strategy=uniform, bins=7 -> Accuracy = 0.896, F1 = 0.323\n",
      "Классификация: strategy=quantile, bins=3 -> Accuracy = 0.837, F1 = 0.828\n",
      "Классификация: strategy=quantile, bins=5 -> Accuracy = 0.725, F1 = 0.646\n",
      "Классификация: strategy=quantile, bins=7 -> Accuracy = 0.660, F1 = 0.572\n",
      "Классификация: strategy=kmeans, bins=3 -> Accuracy = 0.924, F1 = 0.753\n",
      "Классификация: strategy=kmeans, bins=5 -> Accuracy = 0.907, F1 = 0.544\n",
      "Классификация: strategy=kmeans, bins=7 -> Accuracy = 0.843, F1 = 0.389\n"
     ]
    }
   ],
   "source": [
    "from sklearn.datasets import fetch_openml\n",
    "from sklearn.model_selection import train_test_split\n",
    "from sklearn.preprocessing import StandardScaler, KBinsDiscretizer\n",
    "from sklearn.ensemble import RandomForestRegressor, RandomForestClassifier\n",
    "from sklearn.metrics import mean_squared_error, accuracy_score, f1_score\n",
    "\n",
    "import warnings\n",
    "warnings.filterwarnings(\"ignore\")\n",
    "\n",
    "\n",
    "df = fetch_openml(\"CPMP-2015-regression\", version=1, as_frame=True)\n",
    "df.data.drop([\"instance_id\"], axis=1, inplace=True)\n",
    "X = pd.get_dummies(df.data)\n",
    "y = df.target.astype(float)\n",
    "\n",
    "X_train, X_test, y_train, y_test = train_test_split(X, y, test_size=0.25, random_state=42)\n",
    "scaler = StandardScaler()\n",
    "X_train_scaled = scaler.fit_transform(X_train)\n",
    "X_test_scaled = scaler.transform(X_test)\n",
    "\n",
    "\n",
    "reg = RandomForestRegressor(random_state=42)\n",
    "reg.fit(X_train_scaled, y_train)\n",
    "y_pred = reg.predict(X_test_scaled)\n",
    "print(\"Регрессия (baseline): RMSE =\", np.sqrt(mean_squared_error(y_test, y_pred)))\n",
    "\n",
    "for strategy in [\"uniform\", \"quantile\", \"kmeans\"]:\n",
    "    for bins in [3, 5, 7]:\n",
    "        kb = KBinsDiscretizer(n_bins=bins, encode=\"ordinal\", strategy=strategy)\n",
    "        y_train_binned = kb.fit_transform(y_train.values.reshape(-1, 1)).ravel().astype(int)\n",
    "        y_test_binned = kb.transform(y_test.values.reshape(-1, 1)).ravel().astype(int)\n",
    "\n",
    "        clf = RandomForestClassifier(random_state=42)\n",
    "        clf.fit(X_train_scaled, y_train_binned)\n",
    "        y_pred_binned = clf.predict(X_test_scaled)\n",
    "\n",
    "        print(f\"Классификация: strategy={strategy}, bins={bins} -> Accuracy = {accuracy_score(y_test_binned, y_pred_binned):.3f}, F1 = {f1_score(y_test_binned, y_pred_binned, average='macro'):.3f}\")\n",
    "\n"
   ]
  },
  {
   "cell_type": "markdown",
   "metadata": {},
   "source": [
    "Дискретизация целевой переменной (биннинг) снижает точность по сравнению с исходной регрессией (RMSE = 472.98), особенно при увеличении количества бинов. Accuracy при классификации может быть высокой, но F1-score падает, что указывает на дисбаланс классов. \n",
    "Стратегия `quantile` даёт лучший F1 при 3 бинах (0.828), что указывает на хорошее балансирование классов.\n",
    "Стратегия `kmeans` также показывает высокий F1 при 3 бинах (0.753) с высокой accuracy.\n",
    "Однако при увеличении числа бинов все стратегии показывают снижение качества классификации.\n",
    "Оптимальный баланс между точностью и F1 наблюдается при `quantile`, `bins=3`."
   ]
  },
  {
   "cell_type": "markdown",
   "metadata": {},
   "source": [
    "# Контрольные вопросы"
   ]
  },
  {
   "cell_type": "markdown",
   "metadata": {},
   "source": [
    "**Какие модели лучше всего можно использовать для отбора признаков? Почему другие нельзя или нежелательно?**  \n",
    "Лучше всего для отбора признаков использовать модели с встроенной оценкой важности, например, деревья решений (RandomForest, GradientBoosting) и линейные модели с регуляризацией (Lasso, Ridge), потому что они учитывают влияние признаков при обучении. Другие модели, как KNN или SVM без ядра, не предоставляют информации о важности признаков, и их отбор может быть менее обоснован.\n",
    "\n",
    "**Зачем нужен этап отбора признаков? В каких случаях без него не обойтись? А в каких его можно пропустить?**  \n",
    "Этап отбора признаков нужен для улучшения обобщающей способности модели, уменьшения переобучения и ускорения обучения. Он необходим при большом количестве признаков и малом объёме данных, но может быть опущен при небольшом количестве качественных признаков.\n",
    "\n",
    "**Какие есть методы отбора признаков? Найдите и опишите не менее пяти.**  \n",
    "Методы отбора признаков: отбор по важности (feature importance), отброс признаков с низкой дисперсией (VarianceThreshold), рекурсивное исключение признаков (RFE), отбор по статистике (SelectKBest, chi2, ANOVA), отбор по L1-регуляризации (Lasso).\n",
    "\n",
    "**Какие есть стратегии устранения дисбаланса классов? В каких случаях стоит применять их и от чего зависит выбор стратегии?**  \n",
    "Стратегии устранения дисбаланса: андерсемплинг (уменьшение числа объектов мажоритарного класса), оверсемплинг (добавление объектов миноритарного), синтетические методы (SMOTE, ADASYN), взвешивание классов, генерация данных. Выбор зависит от размера выборки, степени дисбаланса и чувствительности модели.\n",
    "\n",
    "**Какие модели машинного обучения из библиотеки sklearn поддерживают веса классов?**  \n",
    "Классовые веса поддерживают: LogisticRegression, RandomForest, GradientBoostingClassifier, DecisionTreeClassifier, SVC, SGDClassifier и другие модели с параметром `class_weight`.\n",
    "\n",
    "**Зачем использовать дискретизацию непрерывной целевой переменной? В каких случаях это оправданно, а в каких — нет?**  \n",
    "Дискретизация целевой переменной используется для преобразования задачи регрессии в классификацию, когда интересуют интервалы значений, а не точные числа. Она оправдана для упрощения задачи или повышения устойчивости, но нецелесообразна, если важна точная числовая предсказательная цель.\n",
    "\n",
    "**Почему дискретизацию целевой переменной нужно делать только после разделения на тестовую и обучающую подвыборки? Что такое утечка данных?**  \n",
    "Дискретизацию нужно делать только после разделения, чтобы избежать утечки данных — это ситуация, когда информация из тестовой выборки попадает в обучение, что приводит к переоценке качества модели и искажению результатов."
   ]
  }
 ],
 "metadata": {
  "kernelspec": {
   "display_name": "My Kernel",
   "language": "python",
   "name": "myenv"
  },
  "language_info": {
   "codemirror_mode": {
    "name": "ipython",
    "version": 3
   },
   "file_extension": ".py",
   "mimetype": "text/x-python",
   "name": "python",
   "nbconvert_exporter": "python",
   "pygments_lexer": "ipython3",
   "version": "3.11.8"
  }
 },
 "nbformat": 4,
 "nbformat_minor": 2
}
